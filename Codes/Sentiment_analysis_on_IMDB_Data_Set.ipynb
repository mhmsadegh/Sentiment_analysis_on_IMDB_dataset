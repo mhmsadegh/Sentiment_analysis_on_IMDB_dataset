{
  "cells": [
    {
      "cell_type": "code",
      "execution_count": null,
      "metadata": {
        "id": "qUP7V7U8JT30"
      },
      "outputs": [],
      "source": [
        "import pandas as pd\n"
      ]
    },
    {
      "cell_type": "code",
      "execution_count": null,
      "metadata": {
        "id": "oL7Km4UxJT33",
        "outputId": "b156d3ae-4d8e-4ad9-d5e1-f9165311c067"
      },
      "outputs": [
        {
          "data": {
            "text/html": [
              "<div>\n",
              "<style scoped>\n",
              "    .dataframe tbody tr th:only-of-type {\n",
              "        vertical-align: middle;\n",
              "    }\n",
              "\n",
              "    .dataframe tbody tr th {\n",
              "        vertical-align: top;\n",
              "    }\n",
              "\n",
              "    .dataframe thead th {\n",
              "        text-align: right;\n",
              "    }\n",
              "</style>\n",
              "<table border=\"1\" class=\"dataframe\">\n",
              "  <thead>\n",
              "    <tr style=\"text-align: right;\">\n",
              "      <th></th>\n",
              "      <th>review</th>\n",
              "      <th>sentiment</th>\n",
              "    </tr>\n",
              "  </thead>\n",
              "  <tbody>\n",
              "    <tr>\n",
              "      <th>0</th>\n",
              "      <td>This film is absolutely awful, but nevertheles...</td>\n",
              "      <td>0</td>\n",
              "    </tr>\n",
              "    <tr>\n",
              "      <th>1</th>\n",
              "      <td>Well since seeing part's 1 through 3 I can hon...</td>\n",
              "      <td>0</td>\n",
              "    </tr>\n",
              "    <tr>\n",
              "      <th>2</th>\n",
              "      <td>I got to see this film at a preview and was da...</td>\n",
              "      <td>1</td>\n",
              "    </tr>\n",
              "    <tr>\n",
              "      <th>3</th>\n",
              "      <td>This adaptation positively butchers a classic ...</td>\n",
              "      <td>0</td>\n",
              "    </tr>\n",
              "    <tr>\n",
              "      <th>4</th>\n",
              "      <td>Råzone is an awful movie! It is so simple. It ...</td>\n",
              "      <td>0</td>\n",
              "    </tr>\n",
              "    <tr>\n",
              "      <th>...</th>\n",
              "      <td>...</td>\n",
              "      <td>...</td>\n",
              "    </tr>\n",
              "    <tr>\n",
              "      <th>24995</th>\n",
              "      <td>With this movie being the only Dirty Harry mov...</td>\n",
              "      <td>1</td>\n",
              "    </tr>\n",
              "    <tr>\n",
              "      <th>24996</th>\n",
              "      <td>Any screen adaptation of a John Grisham story ...</td>\n",
              "      <td>1</td>\n",
              "    </tr>\n",
              "    <tr>\n",
              "      <th>24997</th>\n",
              "      <td>This film captured my heart from the very begi...</td>\n",
              "      <td>1</td>\n",
              "    </tr>\n",
              "    <tr>\n",
              "      <th>24998</th>\n",
              "      <td>A deplorable social condition triggers off the...</td>\n",
              "      <td>1</td>\n",
              "    </tr>\n",
              "    <tr>\n",
              "      <th>24999</th>\n",
              "      <td>Always enjoy the great acting of Drew Barrymor...</td>\n",
              "      <td>1</td>\n",
              "    </tr>\n",
              "  </tbody>\n",
              "</table>\n",
              "<p>25000 rows × 2 columns</p>\n",
              "</div>"
            ],
            "text/plain": [
              "                                                  review  sentiment\n",
              "0      This film is absolutely awful, but nevertheles...          0\n",
              "1      Well since seeing part's 1 through 3 I can hon...          0\n",
              "2      I got to see this film at a preview and was da...          1\n",
              "3      This adaptation positively butchers a classic ...          0\n",
              "4      Råzone is an awful movie! It is so simple. It ...          0\n",
              "...                                                  ...        ...\n",
              "24995  With this movie being the only Dirty Harry mov...          1\n",
              "24996  Any screen adaptation of a John Grisham story ...          1\n",
              "24997  This film captured my heart from the very begi...          1\n",
              "24998  A deplorable social condition triggers off the...          1\n",
              "24999  Always enjoy the great acting of Drew Barrymor...          1\n",
              "\n",
              "[25000 rows x 2 columns]"
            ]
          },
          "execution_count": 2,
          "metadata": {},
          "output_type": "execute_result"
        }
      ],
      "source": [
        "IMDB = pd.read_csv(\"G:\\PHD\\Term1\\Information retrival\\Homework\\HW5\\CA5\\Text Classification\\IMDB_Movie_Reviews.csv\")\n",
        "IMDB"
      ]
    },
    {
      "cell_type": "code",
      "execution_count": null,
      "metadata": {
        "id": "U4XgsPSjJT34",
        "outputId": "85f30827-f660-41f8-eacb-94191d4da5b6"
      },
      "outputs": [
        {
          "data": {
            "text/plain": [
              "'!\"#$%&\\'()*+,-./:;<=>?@[\\\\]^_`{|}~'"
            ]
          },
          "execution_count": 3,
          "metadata": {},
          "output_type": "execute_result"
        }
      ],
      "source": [
        "# !pip install nltk\n",
        "\n",
        "import string\n",
        "import nltk\n",
        "from nltk import word_tokenize\n",
        "from nltk.corpus import stopwords\n",
        "from nltk.stem.porter import PorterStemmer\n",
        "def preprocessing(text):\n",
        "    stop_words = stopwords.words('english')\n",
        "    porter = PorterStemmer()\n",
        "\n",
        "    #lowercase: \n",
        "    text = text.lower()\n",
        "    #Removing Punctuation \n",
        "    text = \"\".join([char for char in text if char not in string.punctuation])\n",
        "    #word tokenization : \n",
        "    text = word_tokenize(text)\n",
        "    #stop word filtering: \n",
        "    text = [word for word in text if word not in stop_words]\n",
        "    #stemming: \n",
        "    text = [porter.stem(word) for word in text]\n",
        "    \n",
        "    return text\n",
        "\n",
        "    \n",
        "IMDB['review'] = IMDB['review'].apply(preprocessing)\n",
        "IMDB\n"
      ]
    },
    {
      "cell_type": "code",
      "execution_count": null,
      "metadata": {
        "id": "-NNmRDlIJT35",
        "outputId": "d3814310-2706-478b-efb2-01b1d2e3e9c8"
      },
      "outputs": [
        {
          "data": {
            "text/plain": [
              "23311    [think, movi, kind, weird, open, scene, person...\n",
              "23623    [movi, hyster, havent, laugh, hard, long, time...\n",
              "1020     [begin, movi, feel, like, movi, anoth, jason, ...\n",
              "12645    [1953, sam, fuller, movi, contain, best, work,...\n",
              "1533     [recap, full, moon, creatur, huge, werewolf, h...\n",
              "                               ...                        \n",
              "21575    [made, origin, killer, tomato, fun, made, peop...\n",
              "5390     [perhap, im, date, dont, know, electra, like, ...\n",
              "860      [director, make, great, film, poltergeist, tex...\n",
              "15795    [weak, plot, unlik, car, malfunct, helpless, f...\n",
              "23654    [agre, everyon, opinion, show, poorli, produc,...\n",
              "Name: review, Length: 20000, dtype: object"
            ]
          },
          "execution_count": 30,
          "metadata": {},
          "output_type": "execute_result"
        }
      ],
      "source": [
        "from sklearn.model_selection import train_test_split\n",
        "\n",
        "X_train, X_test, y_train, y_test = train_test_split(IMDB['review'], IMDB['sentiment'], test_size=0.2, random_state=42)\n",
        "X_train"
      ]
    },
    {
      "cell_type": "code",
      "execution_count": null,
      "metadata": {
        "id": "ysCrSg5DJT36"
      },
      "outputs": [],
      "source": [
        "from collections import Counter\n",
        "all_words = [] \n",
        "\n",
        "for i in list(X_train):\n",
        "    all_words += i\n",
        "    \n",
        "    \n",
        "vocab = Counter(all_words)\n",
        "\n",
        "vocab = {k: v for k, v in sorted(vocab.items(), key=lambda item: item[1],reverse=True)}"
      ]
    },
    {
      "cell_type": "code",
      "execution_count": null,
      "metadata": {
        "id": "LAxrm9UDJT36",
        "outputId": "f1651d95-e86b-4a26-c3bc-afae0f1ea2d0"
      },
      "outputs": [
        {
          "data": {
            "text/plain": [
              "81956"
            ]
          },
          "execution_count": 249,
          "metadata": {},
          "output_type": "execute_result"
        }
      ],
      "source": [
        "len(set(all_words))"
      ]
    },
    {
      "cell_type": "code",
      "execution_count": null,
      "metadata": {
        "id": "sSbNKAniJT37"
      },
      "outputs": [],
      "source": [
        "word_to_id = {j:i for i,j in enumerate(list(vocab.keys())[:3000])}\n",
        "id_to_word = dict(zip(list(word_to_id.values()),list(word_to_id.keys())))\n"
      ]
    },
    {
      "cell_type": "code",
      "execution_count": null,
      "metadata": {
        "id": "_NpQdvlWJT38"
      },
      "outputs": [],
      "source": [
        "\n",
        "import numpy as np\n",
        "\n",
        "all_sen = []\n",
        "for i in list(X_train):\n",
        "    temp = np.zeros(3000)\n",
        "    for j in i:\n",
        "        if j in list(word_to_id.keys()):\n",
        "            temp[word_to_id[j]] +=1\n",
        "    all_sen.append(temp)\n"
      ]
    },
    {
      "cell_type": "code",
      "execution_count": null,
      "metadata": {
        "id": "Av59k-b4JT39",
        "outputId": "0894f609-b4d2-4ebf-a875-939c48e2bd13"
      },
      "outputs": [
        {
          "data": {
            "text/plain": [
              "array([[0., 4., 0., ..., 0., 0., 0.],\n",
              "       [0., 1., 1., ..., 0., 0., 0.],\n",
              "       [2., 4., 0., ..., 0., 0., 0.],\n",
              "       ...,\n",
              "       [1., 0., 2., ..., 0., 0., 0.],\n",
              "       [1., 2., 0., ..., 0., 0., 0.],\n",
              "       [0., 1., 0., ..., 0., 0., 0.]])"
            ]
          },
          "execution_count": 42,
          "metadata": {},
          "output_type": "execute_result"
        }
      ],
      "source": [
        "all_sen = np.array(all_sen)\n",
        "all_sen"
      ]
    },
    {
      "cell_type": "code",
      "execution_count": null,
      "metadata": {
        "id": "w86i1Xn_JT39"
      },
      "outputs": [],
      "source": [
        "\n",
        "all_sen_test = []\n",
        "for i in list(X_test):\n",
        "    temp = np.zeros(3000)\n",
        "    for j in i:\n",
        "        if j in list(word_to_id.keys()):\n",
        "            temp[word_to_id[j]] +=1\n",
        "    all_sen_test.append(temp)\n",
        "all_sen_test = np.array(all_sen_test)"
      ]
    },
    {
      "cell_type": "markdown",
      "metadata": {
        "id": "cyO-pjPGJT3-"
      },
      "source": [
        "# SVM: "
      ]
    },
    {
      "cell_type": "code",
      "execution_count": null,
      "metadata": {
        "id": "QB3hdmizJT3_",
        "outputId": "f3b5c52d-cf29-4c19-ba5c-1f7f2503864c"
      },
      "outputs": [
        {
          "data": {
            "text/plain": [
              "SVC()"
            ]
          },
          "execution_count": 45,
          "metadata": {},
          "output_type": "execute_result"
        }
      ],
      "source": [
        "from sklearn import svm\n",
        "\n",
        "clf = svm.SVC()\n",
        "clf.fit(all_sen, list(y_train))"
      ]
    },
    {
      "cell_type": "code",
      "execution_count": null,
      "metadata": {
        "id": "ZeFZNhK2JT3_"
      },
      "outputs": [],
      "source": [
        "label_test = clf.predict(all_sen_test)"
      ]
    },
    {
      "cell_type": "markdown",
      "metadata": {
        "id": "EB4oWuuqJT4A"
      },
      "source": [
        "# f1 , Precision, Recall , accuracy(SVM)"
      ]
    },
    {
      "cell_type": "code",
      "execution_count": null,
      "metadata": {
        "id": "f7Y-SmIgJT4A",
        "outputId": "aa25396b-7094-4d10-d27c-3480a3a0157f"
      },
      "outputs": [
        {
          "name": "stdout",
          "output_type": "stream",
          "text": [
            "f1 score is :  0.8711512061188468\n"
          ]
        }
      ],
      "source": [
        "from sklearn.metrics import f1_score\n",
        "print(\"f1 score is : \",f1_score(list(y_test), label_test,average='binary'))"
      ]
    },
    {
      "cell_type": "code",
      "execution_count": null,
      "metadata": {
        "id": "YBKf2zoKJT4A",
        "outputId": "8f3863cc-4235-4cc1-901c-23614a91c231"
      },
      "outputs": [
        {
          "name": "stdout",
          "output_type": "stream",
          "text": [
            "Accuracy is :  0.8686\n"
          ]
        }
      ],
      "source": [
        "from sklearn.metrics import accuracy_score\n",
        "print(\"Accuracy is : \",accuracy_score(list(y_test), label_test))"
      ]
    },
    {
      "cell_type": "code",
      "execution_count": null,
      "metadata": {
        "id": "Co5qi62PJT4B",
        "outputId": "4a42dd14-ef58-4f00-f38d-b4ce44ea5171"
      },
      "outputs": [
        {
          "name": "stdout",
          "output_type": "stream",
          "text": [
            "Recall is:  0.8988263860785107\n"
          ]
        }
      ],
      "source": [
        "from sklearn.metrics import recall_score\n",
        "\n",
        "print(\"Recall is: \",recall_score(list(y_test), label_test,average='binary'))"
      ]
    },
    {
      "cell_type": "code",
      "execution_count": null,
      "metadata": {
        "id": "NZeoYHYnJT4B",
        "outputId": "b2d8be63-32b6-4b40-b93c-c013660a0417"
      },
      "outputs": [
        {
          "name": "stdout",
          "output_type": "stream",
          "text": [
            "precision is : 0.8451293759512938\n"
          ]
        }
      ],
      "source": [
        "from sklearn.metrics import precision_score\n",
        "print(\"precision is :\",precision_score(list(y_test), label_test,average='binary'))\n"
      ]
    },
    {
      "cell_type": "markdown",
      "metadata": {
        "id": "tpYzr_iIJT4B"
      },
      "source": [
        "# Naive Bayes"
      ]
    },
    {
      "cell_type": "code",
      "execution_count": null,
      "metadata": {
        "id": "Bt33jBF0JT4C"
      },
      "outputs": [],
      "source": [
        "from sklearn.naive_bayes import GaussianNB\n",
        "gnb = GaussianNB()\n",
        "y_pred_nv = gnb.fit(all_sen, list(y_train)).predict(all_sen_test)\n",
        "\n"
      ]
    },
    {
      "cell_type": "code",
      "execution_count": null,
      "metadata": {
        "id": "aphdB0_eJT4C",
        "outputId": "6f88501a-0203-48a6-e04a-7f169263705f"
      },
      "outputs": [
        {
          "name": "stdout",
          "output_type": "stream",
          "text": [
            "f1 score is: 0.7035681610247025\n"
          ]
        }
      ],
      "source": [
        "from sklearn.metrics import f1_score\n",
        "print(\"f1 score is:\" , f1_score(list(y_test), y_pred_nv,average='binary'))"
      ]
    },
    {
      "cell_type": "code",
      "execution_count": null,
      "metadata": {
        "id": "ZmRGhY67JT4C",
        "outputId": "b1b18fc4-e277-4607-aa8c-dd4ebe2ac4ec"
      },
      "outputs": [
        {
          "name": "stdout",
          "output_type": "stream",
          "text": [
            "Accuracy score is: 0.7408\n"
          ]
        }
      ],
      "source": [
        "from sklearn.metrics import accuracy_score\n",
        "print(\"Accuracy score is:\" , accuracy_score(list(y_test), y_pred_nv))\n"
      ]
    },
    {
      "cell_type": "code",
      "execution_count": null,
      "metadata": {
        "id": "pFV0IGVRJT4C",
        "outputId": "a2fe8620-a4e3-4b0c-d7fb-9c67f36b3cfb"
      },
      "outputs": [
        {
          "name": "stdout",
          "output_type": "stream",
          "text": [
            "Recall is:  0.622420072845002\n"
          ]
        }
      ],
      "source": [
        "print(\"Recall is: \",recall_score(list(y_test), y_pred_nv,average='binary'))"
      ]
    },
    {
      "cell_type": "code",
      "execution_count": null,
      "metadata": {
        "id": "piJgh2C0JT4D",
        "outputId": "63f4a681-6a66-4100-af22-7c911bb1b0d7"
      },
      "outputs": [
        {
          "name": "stdout",
          "output_type": "stream",
          "text": [
            "precision is : 0.8090478695423461\n"
          ]
        }
      ],
      "source": [
        "print(\"precision is :\",precision_score(list(y_test), y_pred_nv,average='binary'))\n"
      ]
    },
    {
      "cell_type": "markdown",
      "metadata": {
        "id": "ze2eAytbJT4D"
      },
      "source": [
        "# Logistic Regression: "
      ]
    },
    {
      "cell_type": "code",
      "execution_count": null,
      "metadata": {
        "id": "uBD9_2sMJT4D",
        "outputId": "6a943542-0f20-485a-b3fb-75ddd54660d2"
      },
      "outputs": [
        {
          "name": "stderr",
          "output_type": "stream",
          "text": [
            "C:\\Users\\mhmsadegh\\anaconda3\\lib\\site-packages\\sklearn\\linear_model\\_logistic.py:814: ConvergenceWarning: lbfgs failed to converge (status=1):\n",
            "STOP: TOTAL NO. of ITERATIONS REACHED LIMIT.\n",
            "\n",
            "Increase the number of iterations (max_iter) or scale the data as shown in:\n",
            "    https://scikit-learn.org/stable/modules/preprocessing.html\n",
            "Please also refer to the documentation for alternative solver options:\n",
            "    https://scikit-learn.org/stable/modules/linear_model.html#logistic-regression\n",
            "  n_iter_i = _check_optimize_result(\n"
          ]
        }
      ],
      "source": [
        "from sklearn.linear_model import LogisticRegression\n",
        "clf = LogisticRegression(random_state=0).fit(all_sen, list(y_train))\n",
        "y_pred_lr = clf.predict(all_sen_test)"
      ]
    },
    {
      "cell_type": "code",
      "execution_count": null,
      "metadata": {
        "id": "ZtWKTRtKJT4D",
        "outputId": "f48a724d-dda6-4f99-b6d2-db99b0437846"
      },
      "outputs": [
        {
          "name": "stdout",
          "output_type": "stream",
          "text": [
            "f1 score is: 0.8602838297021788\n"
          ]
        }
      ],
      "source": [
        "from sklearn.metrics import f1_score\n",
        "print(\"f1 score is:\" , f1_score(list(y_test), y_pred_lr,average='binary'))"
      ]
    },
    {
      "cell_type": "code",
      "execution_count": null,
      "metadata": {
        "id": "fNPMtliwJT4D",
        "outputId": "988dd403-17f2-4876-aad8-2fcd1f9500eb"
      },
      "outputs": [
        {
          "name": "stdout",
          "output_type": "stream",
          "text": [
            "Accuracy score is: 0.8602\n"
          ]
        }
      ],
      "source": [
        "from sklearn.metrics import accuracy_score\n",
        "print(\"Accuracy score is:\" , accuracy_score(list(y_test), y_pred_lr))\n"
      ]
    },
    {
      "cell_type": "code",
      "execution_count": null,
      "metadata": {
        "id": "1l1-L0JTJT4D",
        "outputId": "7d1a8f42-ce67-4b11-918e-e0f26909ab53"
      },
      "outputs": [
        {
          "name": "stdout",
          "output_type": "stream",
          "text": [
            "Recall is:  0.8709024686361797\n"
          ]
        }
      ],
      "source": [
        "from sklearn.metrics import recall_score\n",
        "\n",
        "print(\"Recall is: \",recall_score(list(y_test), y_pred_lr,average='binary'))"
      ]
    },
    {
      "cell_type": "code",
      "execution_count": null,
      "metadata": {
        "id": "w0grZQ5RJT4E",
        "outputId": "7f16ff8b-daba-4707-8607-25b0356f69a7"
      },
      "outputs": [
        {
          "name": "stdout",
          "output_type": "stream",
          "text": [
            "precision is : 0.8499210110584519\n"
          ]
        }
      ],
      "source": [
        "from sklearn.metrics import precision_score\n",
        "print(\"precision is :\",precision_score(list(y_test), y_pred_lr,average='binary'))\n"
      ]
    },
    {
      "cell_type": "markdown",
      "metadata": {
        "id": "-gnFFirLJT4E"
      },
      "source": [
        "# TF / IDF"
      ]
    },
    {
      "cell_type": "code",
      "execution_count": null,
      "metadata": {
        "id": "pZ7sOPr8JT4E"
      },
      "outputs": [],
      "source": [
        "from sklearn.feature_extraction.text import TfidfVectorizer\n",
        "word_stems_train = []\n",
        "word_stems_test = []\n",
        "\n",
        "for i in list(X_train):\n",
        "    word_stems_train.append(\" \".join(i))\n",
        "    \n",
        "for i in list(X_test):\n",
        "    word_stems_test.append(\" \".join(i))    \n",
        "    \n",
        "\n",
        "\n"
      ]
    },
    {
      "cell_type": "code",
      "execution_count": null,
      "metadata": {
        "id": "aQY7NJbUJT4E",
        "outputId": "0a70af85-6e28-4ef9-f6d2-86c99dbcb2d0"
      },
      "outputs": [
        {
          "name": "stderr",
          "output_type": "stream",
          "text": [
            "C:\\Users\\mhmsadegh\\anaconda3\\lib\\site-packages\\sklearn\\utils\\deprecation.py:87: FutureWarning: Function get_feature_names is deprecated; get_feature_names is deprecated in 1.0 and will be removed in 1.2. Please use get_feature_names_out instead.\n",
            "  warnings.warn(msg, category=FutureWarning)\n"
          ]
        },
        {
          "data": {
            "text/html": [
              "<div>\n",
              "<style scoped>\n",
              "    .dataframe tbody tr th:only-of-type {\n",
              "        vertical-align: middle;\n",
              "    }\n",
              "\n",
              "    .dataframe tbody tr th {\n",
              "        vertical-align: top;\n",
              "    }\n",
              "\n",
              "    .dataframe thead th {\n",
              "        text-align: right;\n",
              "    }\n",
              "</style>\n",
              "<table border=\"1\" class=\"dataframe\">\n",
              "  <thead>\n",
              "    <tr style=\"text-align: right;\">\n",
              "      <th></th>\n",
              "      <th>10</th>\n",
              "      <th>100</th>\n",
              "      <th>1010</th>\n",
              "      <th>11</th>\n",
              "      <th>110</th>\n",
              "      <th>12</th>\n",
              "      <th>13</th>\n",
              "      <th>14</th>\n",
              "      <th>15</th>\n",
              "      <th>17</th>\n",
              "      <th>...</th>\n",
              "      <th>youd</th>\n",
              "      <th>youll</th>\n",
              "      <th>young</th>\n",
              "      <th>younger</th>\n",
              "      <th>your</th>\n",
              "      <th>youth</th>\n",
              "      <th>youv</th>\n",
              "      <th>zero</th>\n",
              "      <th>zombi</th>\n",
              "      <th>zone</th>\n",
              "    </tr>\n",
              "  </thead>\n",
              "  <tbody>\n",
              "    <tr>\n",
              "      <th>0</th>\n",
              "      <td>0.176911</td>\n",
              "      <td>0.0</td>\n",
              "      <td>0.0</td>\n",
              "      <td>0.0</td>\n",
              "      <td>0.0</td>\n",
              "      <td>0.0</td>\n",
              "      <td>0.0</td>\n",
              "      <td>0.0</td>\n",
              "      <td>0.0</td>\n",
              "      <td>0.0</td>\n",
              "      <td>...</td>\n",
              "      <td>0.0</td>\n",
              "      <td>0.0</td>\n",
              "      <td>0.000000</td>\n",
              "      <td>0.0</td>\n",
              "      <td>0.000000</td>\n",
              "      <td>0.0</td>\n",
              "      <td>0.0</td>\n",
              "      <td>0.0</td>\n",
              "      <td>0.0</td>\n",
              "      <td>0.0</td>\n",
              "    </tr>\n",
              "    <tr>\n",
              "      <th>1</th>\n",
              "      <td>0.000000</td>\n",
              "      <td>0.0</td>\n",
              "      <td>0.0</td>\n",
              "      <td>0.0</td>\n",
              "      <td>0.0</td>\n",
              "      <td>0.0</td>\n",
              "      <td>0.0</td>\n",
              "      <td>0.0</td>\n",
              "      <td>0.0</td>\n",
              "      <td>0.0</td>\n",
              "      <td>...</td>\n",
              "      <td>0.0</td>\n",
              "      <td>0.0</td>\n",
              "      <td>0.000000</td>\n",
              "      <td>0.0</td>\n",
              "      <td>0.000000</td>\n",
              "      <td>0.0</td>\n",
              "      <td>0.0</td>\n",
              "      <td>0.0</td>\n",
              "      <td>0.0</td>\n",
              "      <td>0.0</td>\n",
              "    </tr>\n",
              "    <tr>\n",
              "      <th>2</th>\n",
              "      <td>0.000000</td>\n",
              "      <td>0.0</td>\n",
              "      <td>0.0</td>\n",
              "      <td>0.0</td>\n",
              "      <td>0.0</td>\n",
              "      <td>0.0</td>\n",
              "      <td>0.0</td>\n",
              "      <td>0.0</td>\n",
              "      <td>0.0</td>\n",
              "      <td>0.0</td>\n",
              "      <td>...</td>\n",
              "      <td>0.0</td>\n",
              "      <td>0.0</td>\n",
              "      <td>0.000000</td>\n",
              "      <td>0.0</td>\n",
              "      <td>0.000000</td>\n",
              "      <td>0.0</td>\n",
              "      <td>0.0</td>\n",
              "      <td>0.0</td>\n",
              "      <td>0.0</td>\n",
              "      <td>0.0</td>\n",
              "    </tr>\n",
              "    <tr>\n",
              "      <th>3</th>\n",
              "      <td>0.000000</td>\n",
              "      <td>0.0</td>\n",
              "      <td>0.0</td>\n",
              "      <td>0.0</td>\n",
              "      <td>0.0</td>\n",
              "      <td>0.0</td>\n",
              "      <td>0.0</td>\n",
              "      <td>0.0</td>\n",
              "      <td>0.0</td>\n",
              "      <td>0.0</td>\n",
              "      <td>...</td>\n",
              "      <td>0.0</td>\n",
              "      <td>0.0</td>\n",
              "      <td>0.000000</td>\n",
              "      <td>0.0</td>\n",
              "      <td>0.000000</td>\n",
              "      <td>0.0</td>\n",
              "      <td>0.0</td>\n",
              "      <td>0.0</td>\n",
              "      <td>0.0</td>\n",
              "      <td>0.0</td>\n",
              "    </tr>\n",
              "    <tr>\n",
              "      <th>4</th>\n",
              "      <td>0.000000</td>\n",
              "      <td>0.0</td>\n",
              "      <td>0.0</td>\n",
              "      <td>0.0</td>\n",
              "      <td>0.0</td>\n",
              "      <td>0.0</td>\n",
              "      <td>0.0</td>\n",
              "      <td>0.0</td>\n",
              "      <td>0.0</td>\n",
              "      <td>0.0</td>\n",
              "      <td>...</td>\n",
              "      <td>0.0</td>\n",
              "      <td>0.0</td>\n",
              "      <td>0.000000</td>\n",
              "      <td>0.0</td>\n",
              "      <td>0.038212</td>\n",
              "      <td>0.0</td>\n",
              "      <td>0.0</td>\n",
              "      <td>0.0</td>\n",
              "      <td>0.0</td>\n",
              "      <td>0.0</td>\n",
              "    </tr>\n",
              "    <tr>\n",
              "      <th>...</th>\n",
              "      <td>...</td>\n",
              "      <td>...</td>\n",
              "      <td>...</td>\n",
              "      <td>...</td>\n",
              "      <td>...</td>\n",
              "      <td>...</td>\n",
              "      <td>...</td>\n",
              "      <td>...</td>\n",
              "      <td>...</td>\n",
              "      <td>...</td>\n",
              "      <td>...</td>\n",
              "      <td>...</td>\n",
              "      <td>...</td>\n",
              "      <td>...</td>\n",
              "      <td>...</td>\n",
              "      <td>...</td>\n",
              "      <td>...</td>\n",
              "      <td>...</td>\n",
              "      <td>...</td>\n",
              "      <td>...</td>\n",
              "      <td>...</td>\n",
              "    </tr>\n",
              "    <tr>\n",
              "      <th>19995</th>\n",
              "      <td>0.000000</td>\n",
              "      <td>0.0</td>\n",
              "      <td>0.0</td>\n",
              "      <td>0.0</td>\n",
              "      <td>0.0</td>\n",
              "      <td>0.0</td>\n",
              "      <td>0.0</td>\n",
              "      <td>0.0</td>\n",
              "      <td>0.0</td>\n",
              "      <td>0.0</td>\n",
              "      <td>...</td>\n",
              "      <td>0.0</td>\n",
              "      <td>0.0</td>\n",
              "      <td>0.000000</td>\n",
              "      <td>0.0</td>\n",
              "      <td>0.000000</td>\n",
              "      <td>0.0</td>\n",
              "      <td>0.0</td>\n",
              "      <td>0.0</td>\n",
              "      <td>0.0</td>\n",
              "      <td>0.0</td>\n",
              "    </tr>\n",
              "    <tr>\n",
              "      <th>19996</th>\n",
              "      <td>0.000000</td>\n",
              "      <td>0.0</td>\n",
              "      <td>0.0</td>\n",
              "      <td>0.0</td>\n",
              "      <td>0.0</td>\n",
              "      <td>0.0</td>\n",
              "      <td>0.0</td>\n",
              "      <td>0.0</td>\n",
              "      <td>0.0</td>\n",
              "      <td>0.0</td>\n",
              "      <td>...</td>\n",
              "      <td>0.0</td>\n",
              "      <td>0.0</td>\n",
              "      <td>0.000000</td>\n",
              "      <td>0.0</td>\n",
              "      <td>0.000000</td>\n",
              "      <td>0.0</td>\n",
              "      <td>0.0</td>\n",
              "      <td>0.0</td>\n",
              "      <td>0.0</td>\n",
              "      <td>0.0</td>\n",
              "    </tr>\n",
              "    <tr>\n",
              "      <th>19997</th>\n",
              "      <td>0.000000</td>\n",
              "      <td>0.0</td>\n",
              "      <td>0.0</td>\n",
              "      <td>0.0</td>\n",
              "      <td>0.0</td>\n",
              "      <td>0.0</td>\n",
              "      <td>0.0</td>\n",
              "      <td>0.0</td>\n",
              "      <td>0.0</td>\n",
              "      <td>0.0</td>\n",
              "      <td>...</td>\n",
              "      <td>0.0</td>\n",
              "      <td>0.0</td>\n",
              "      <td>0.000000</td>\n",
              "      <td>0.0</td>\n",
              "      <td>0.000000</td>\n",
              "      <td>0.0</td>\n",
              "      <td>0.0</td>\n",
              "      <td>0.0</td>\n",
              "      <td>0.0</td>\n",
              "      <td>0.0</td>\n",
              "    </tr>\n",
              "    <tr>\n",
              "      <th>19998</th>\n",
              "      <td>0.000000</td>\n",
              "      <td>0.0</td>\n",
              "      <td>0.0</td>\n",
              "      <td>0.0</td>\n",
              "      <td>0.0</td>\n",
              "      <td>0.0</td>\n",
              "      <td>0.0</td>\n",
              "      <td>0.0</td>\n",
              "      <td>0.0</td>\n",
              "      <td>0.0</td>\n",
              "      <td>...</td>\n",
              "      <td>0.0</td>\n",
              "      <td>0.0</td>\n",
              "      <td>0.000000</td>\n",
              "      <td>0.0</td>\n",
              "      <td>0.000000</td>\n",
              "      <td>0.0</td>\n",
              "      <td>0.0</td>\n",
              "      <td>0.0</td>\n",
              "      <td>0.0</td>\n",
              "      <td>0.0</td>\n",
              "    </tr>\n",
              "    <tr>\n",
              "      <th>19999</th>\n",
              "      <td>0.000000</td>\n",
              "      <td>0.0</td>\n",
              "      <td>0.0</td>\n",
              "      <td>0.0</td>\n",
              "      <td>0.0</td>\n",
              "      <td>0.0</td>\n",
              "      <td>0.0</td>\n",
              "      <td>0.0</td>\n",
              "      <td>0.0</td>\n",
              "      <td>0.0</td>\n",
              "      <td>...</td>\n",
              "      <td>0.0</td>\n",
              "      <td>0.0</td>\n",
              "      <td>0.111434</td>\n",
              "      <td>0.0</td>\n",
              "      <td>0.000000</td>\n",
              "      <td>0.0</td>\n",
              "      <td>0.0</td>\n",
              "      <td>0.0</td>\n",
              "      <td>0.0</td>\n",
              "      <td>0.0</td>\n",
              "    </tr>\n",
              "  </tbody>\n",
              "</table>\n",
              "<p>20000 rows × 3000 columns</p>\n",
              "</div>"
            ],
            "text/plain": [
              "             10  100  1010   11  110   12   13   14   15   17  ...  youd  \\\n",
              "0      0.176911  0.0   0.0  0.0  0.0  0.0  0.0  0.0  0.0  0.0  ...   0.0   \n",
              "1      0.000000  0.0   0.0  0.0  0.0  0.0  0.0  0.0  0.0  0.0  ...   0.0   \n",
              "2      0.000000  0.0   0.0  0.0  0.0  0.0  0.0  0.0  0.0  0.0  ...   0.0   \n",
              "3      0.000000  0.0   0.0  0.0  0.0  0.0  0.0  0.0  0.0  0.0  ...   0.0   \n",
              "4      0.000000  0.0   0.0  0.0  0.0  0.0  0.0  0.0  0.0  0.0  ...   0.0   \n",
              "...         ...  ...   ...  ...  ...  ...  ...  ...  ...  ...  ...   ...   \n",
              "19995  0.000000  0.0   0.0  0.0  0.0  0.0  0.0  0.0  0.0  0.0  ...   0.0   \n",
              "19996  0.000000  0.0   0.0  0.0  0.0  0.0  0.0  0.0  0.0  0.0  ...   0.0   \n",
              "19997  0.000000  0.0   0.0  0.0  0.0  0.0  0.0  0.0  0.0  0.0  ...   0.0   \n",
              "19998  0.000000  0.0   0.0  0.0  0.0  0.0  0.0  0.0  0.0  0.0  ...   0.0   \n",
              "19999  0.000000  0.0   0.0  0.0  0.0  0.0  0.0  0.0  0.0  0.0  ...   0.0   \n",
              "\n",
              "       youll     young  younger      your  youth  youv  zero  zombi  zone  \n",
              "0        0.0  0.000000      0.0  0.000000    0.0   0.0   0.0    0.0   0.0  \n",
              "1        0.0  0.000000      0.0  0.000000    0.0   0.0   0.0    0.0   0.0  \n",
              "2        0.0  0.000000      0.0  0.000000    0.0   0.0   0.0    0.0   0.0  \n",
              "3        0.0  0.000000      0.0  0.000000    0.0   0.0   0.0    0.0   0.0  \n",
              "4        0.0  0.000000      0.0  0.038212    0.0   0.0   0.0    0.0   0.0  \n",
              "...      ...       ...      ...       ...    ...   ...   ...    ...   ...  \n",
              "19995    0.0  0.000000      0.0  0.000000    0.0   0.0   0.0    0.0   0.0  \n",
              "19996    0.0  0.000000      0.0  0.000000    0.0   0.0   0.0    0.0   0.0  \n",
              "19997    0.0  0.000000      0.0  0.000000    0.0   0.0   0.0    0.0   0.0  \n",
              "19998    0.0  0.000000      0.0  0.000000    0.0   0.0   0.0    0.0   0.0  \n",
              "19999    0.0  0.111434      0.0  0.000000    0.0   0.0   0.0    0.0   0.0  \n",
              "\n",
              "[20000 rows x 3000 columns]"
            ]
          },
          "execution_count": 258,
          "metadata": {},
          "output_type": "execute_result"
        }
      ],
      "source": [
        "vectorizer = TfidfVectorizer(max_features=3000)\n",
        "train_features = vectorizer.fit_transform(list(word_stems_train))\n",
        "\n",
        "dense = train_features.todense()\n",
        "denselist = dense.tolist()\n",
        "train_TFIDF = pd.DataFrame(denselist,columns=vectorizer.get_feature_names())\n",
        "train_TFIDF"
      ]
    },
    {
      "cell_type": "markdown",
      "metadata": {
        "id": "VLbap6uBJT4E"
      },
      "source": [
        "# SVM"
      ]
    },
    {
      "cell_type": "code",
      "execution_count": null,
      "metadata": {
        "id": "rgeJIEdsJT4E",
        "outputId": "dfbbeac2-ad9f-4e44-ec2e-2f39e2d1bb23"
      },
      "outputs": [
        {
          "data": {
            "text/plain": [
              "SVC()"
            ]
          },
          "execution_count": 259,
          "metadata": {},
          "output_type": "execute_result"
        }
      ],
      "source": [
        "from sklearn import svm\n",
        "\n",
        "clf_ = svm.SVC()\n",
        "clf_.fit(train_TFIDF.to_numpy(), list(y_train))"
      ]
    },
    {
      "cell_type": "code",
      "execution_count": null,
      "metadata": {
        "id": "6otM_A4YJT4E",
        "outputId": "3d412953-02e0-4c80-cbd3-49e925e9c138"
      },
      "outputs": [
        {
          "name": "stderr",
          "output_type": "stream",
          "text": [
            "C:\\Users\\mhmsadegh\\anaconda3\\lib\\site-packages\\sklearn\\utils\\deprecation.py:87: FutureWarning: Function get_feature_names is deprecated; get_feature_names is deprecated in 1.0 and will be removed in 1.2. Please use get_feature_names_out instead.\n",
            "  warnings.warn(msg, category=FutureWarning)\n"
          ]
        }
      ],
      "source": [
        "test_features = vectorizer.transform(word_stems_test)\n",
        "\n",
        "\n",
        "df_Test = pd.DataFrame(test_features.todense().tolist(),columns=vectorizer.get_feature_names())\n",
        "\n",
        "\n",
        "label_test_svm = clf_.predict(df_Test.to_numpy())"
      ]
    },
    {
      "cell_type": "code",
      "execution_count": null,
      "metadata": {
        "id": "NAHMQxDsJT4F",
        "outputId": "254d91d5-1b88-4f62-b111-a49a8a01b0b5"
      },
      "outputs": [
        {
          "name": "stdout",
          "output_type": "stream",
          "text": [
            "f1 score is :  0.8806176994654524\n"
          ]
        }
      ],
      "source": [
        "from sklearn.metrics import f1_score\n",
        "print(\"f1 score is : \",f1_score(list(y_test), label_test_svm,average='binary'))"
      ]
    },
    {
      "cell_type": "code",
      "execution_count": null,
      "metadata": {
        "id": "HR_EMA9pJT4F",
        "outputId": "5d754432-61a6-4d50-aa49-51f4df9c0c83"
      },
      "outputs": [
        {
          "name": "stdout",
          "output_type": "stream",
          "text": [
            "Accuracy score is: 0.8794\n"
          ]
        }
      ],
      "source": [
        "from sklearn.metrics import accuracy_score\n",
        "print(\"Accuracy score is:\" , accuracy_score(list(y_test), label_test_svm))\n"
      ]
    },
    {
      "cell_type": "code",
      "execution_count": null,
      "metadata": {
        "id": "3UPdnYEuJT4F",
        "outputId": "59533249-d299-4170-b233-06b77379abf7"
      },
      "outputs": [
        {
          "name": "stdout",
          "output_type": "stream",
          "text": [
            "Recall is:  0.9000404694455686\n"
          ]
        }
      ],
      "source": [
        "print(\"Recall is: \",recall_score(list(y_test), label_test_svm,average='binary'))"
      ]
    },
    {
      "cell_type": "code",
      "execution_count": null,
      "metadata": {
        "id": "RTDQtXamJT4F",
        "outputId": "a76fb63c-c965-43e5-f91c-e9936ff8d3d8"
      },
      "outputs": [
        {
          "name": "stdout",
          "output_type": "stream",
          "text": [
            "precision is : 0.862015503875969\n"
          ]
        }
      ],
      "source": [
        "print(\"precision is :\",precision_score(list(y_test), label_test_svm,average='binary'))\n"
      ]
    },
    {
      "cell_type": "markdown",
      "metadata": {
        "id": "bEzcM35QJT4F"
      },
      "source": [
        "# Naive Bayes"
      ]
    },
    {
      "cell_type": "code",
      "execution_count": null,
      "metadata": {
        "id": "mm0uIvNJJT4F"
      },
      "outputs": [],
      "source": [
        "from sklearn.naive_bayes import GaussianNB\n",
        "gnb = GaussianNB()\n",
        "y_pred_nv_Tfidf = gnb.fit(train_TFIDF.to_numpy(), list(y_train)).predict(df_Test.to_numpy())\n"
      ]
    },
    {
      "cell_type": "code",
      "execution_count": null,
      "metadata": {
        "id": "X5jGaO8zJT4F",
        "outputId": "bb9dd8cc-ba93-4980-a22c-915004d85bed"
      },
      "outputs": [
        {
          "name": "stdout",
          "output_type": "stream",
          "text": [
            "f1 score is :  0.8056338028169013\n"
          ]
        }
      ],
      "source": [
        "from sklearn.metrics import f1_score\n",
        "print(\"f1 score is : \",f1_score(list(y_test), y_pred_nv_Tfidf,average='binary'))"
      ]
    },
    {
      "cell_type": "code",
      "execution_count": null,
      "metadata": {
        "id": "nr4qBaVsJT4F",
        "outputId": "22df1acf-252e-4b43-8ec9-4f16707150dd"
      },
      "outputs": [
        {
          "name": "stdout",
          "output_type": "stream",
          "text": [
            "Accuracy score is: 0.8068\n"
          ]
        }
      ],
      "source": [
        "from sklearn.metrics import accuracy_score\n",
        "print(\"Accuracy score is:\" , accuracy_score(list(y_test), y_pred_nv_Tfidf))\n"
      ]
    },
    {
      "cell_type": "code",
      "execution_count": null,
      "metadata": {
        "id": "stadt2itJT4G",
        "outputId": "6c7d9ca2-c236-4915-d04e-ee06bf5a3dd5"
      },
      "outputs": [
        {
          "name": "stdout",
          "output_type": "stream",
          "text": [
            "Recall is:  0.8101983002832861\n"
          ]
        }
      ],
      "source": [
        "print(\"Recall is: \",recall_score(list(y_test), y_pred_nv_Tfidf,average='binary'))"
      ]
    },
    {
      "cell_type": "code",
      "execution_count": null,
      "metadata": {
        "id": "dELYn8D3JT4G",
        "outputId": "03da52bf-d5f7-46d5-c469-0e1068a3d42e"
      },
      "outputs": [
        {
          "name": "stdout",
          "output_type": "stream",
          "text": [
            "precision is : 0.8011204481792717\n"
          ]
        }
      ],
      "source": [
        "print(\"precision is :\",precision_score(list(y_test), y_pred_nv_Tfidf,average='binary'))\n"
      ]
    },
    {
      "cell_type": "markdown",
      "metadata": {
        "id": "Ao8-bRwTJT4G"
      },
      "source": [
        "# logistic Regression : "
      ]
    },
    {
      "cell_type": "code",
      "execution_count": null,
      "metadata": {
        "id": "ujSuLJLrJT4G"
      },
      "outputs": [],
      "source": [
        "from sklearn.linear_model import LogisticRegression\n",
        "clf_tfidf = LogisticRegression(random_state=0).fit(train_TFIDF.to_numpy(), list(y_train))\n",
        "y_pred_lr_tfifd = clf_tfidf.predict(df_Test.to_numpy())"
      ]
    },
    {
      "cell_type": "code",
      "execution_count": null,
      "metadata": {
        "id": "sl06tKEBJT4G",
        "outputId": "bacf2139-107d-4eea-ebb4-d044686a73ca"
      },
      "outputs": [
        {
          "name": "stdout",
          "output_type": "stream",
          "text": [
            "f1 score is :  0.8787040695377321\n"
          ]
        }
      ],
      "source": [
        "from sklearn.metrics import f1_score\n",
        "print(\"f1 score is : \",f1_score(list(y_test), y_pred_lr_tfifd,average='binary'))"
      ]
    },
    {
      "cell_type": "code",
      "execution_count": null,
      "metadata": {
        "id": "RLrCnRdPJT4G",
        "outputId": "5783e969-bc4f-45ef-a827-ce04c1cb579b"
      },
      "outputs": [
        {
          "name": "stdout",
          "output_type": "stream",
          "text": [
            "Accuracy score is: 0.8772\n"
          ]
        }
      ],
      "source": [
        "from sklearn.metrics import accuracy_score\n",
        "print(\"Accuracy score is:\" , accuracy_score(list(y_test), y_pred_lr_tfifd))\n"
      ]
    },
    {
      "cell_type": "code",
      "execution_count": null,
      "metadata": {
        "id": "AgdPEfhrJT4G",
        "outputId": "0ac5f7a6-6e23-4b35-d766-45e4c9e65e8e"
      },
      "outputs": [
        {
          "name": "stdout",
          "output_type": "stream",
          "text": [
            "Recall is:  0.9000404694455686\n"
          ]
        }
      ],
      "source": [
        "print(\"Recall is: \",recall_score(list(y_test), y_pred_lr_tfifd,average='binary'))"
      ]
    },
    {
      "cell_type": "code",
      "execution_count": null,
      "metadata": {
        "id": "Pj-OBnjiJT4G",
        "outputId": "1ec1049b-9d7b-4a62-83d9-ce33f561b860"
      },
      "outputs": [
        {
          "name": "stdout",
          "output_type": "stream",
          "text": [
            "precision is : 0.8583558471632574\n"
          ]
        }
      ],
      "source": [
        "print(\"precision is :\",precision_score(list(y_test), y_pred_lr_tfifd,average='binary'))\n"
      ]
    },
    {
      "cell_type": "markdown",
      "metadata": {
        "id": "c_Y1mkSzJT4G"
      },
      "source": [
        "# Comparing with plot :"
      ]
    },
    {
      "cell_type": "code",
      "execution_count": null,
      "metadata": {
        "id": "yYoZchtaJT4G",
        "outputId": "370671a2-6c65-4fb6-f9a2-847c69730d01"
      },
      "outputs": [
        {
          "data": {
            "image/png": "[encoded data removed]",
            "text/plain": [
              "<Figure size 800x400 with 1 Axes>"
            ]
          },
          "metadata": {},
          "output_type": "display_data"
        }
      ],
      "source": [
        "import numpy as np\n",
        "import matplotlib.pyplot as plt\n",
        " \n",
        "# set width of bar\n",
        "barWidth = 0.1\n",
        "fig = plt.subplots(figsize =(8, 4))\n",
        " \n",
        "# set height of bar\n",
        "f1score = [0.87,0.88,0.7,0.8,0.86,0.87]\n",
        "accuracy = [0.86,0.8794,0.74,0.8068,0.86,0.8772]\n",
        "precision = [0.84,0.86,0.80,0.80,0.84,0.8583]\n",
        "recall = [0.89,0.90,0.62,0.81,0.87,0.90]\n",
        " \n",
        "# Set position of bar on X axis\n",
        "br1 = np.arange(len(f1score))\n",
        "br2 = [x + barWidth for x in br1]\n",
        "br3 = [x + barWidth for x in br2]\n",
        "br4 = [x + barWidth for x in br3]\n",
        " \n",
        "# Make the plot\n",
        "plt.bar(br1, f1score, color ='#c61f22', width = barWidth,\n",
        "        edgecolor ='grey', label ='F1_Score')\n",
        "plt.bar(br2, accuracy, color ='#919191', width = barWidth,\n",
        "        edgecolor ='grey', label ='Accuracy')\n",
        "plt.bar(br3, precision, color ='#eacb1e', width = barWidth,\n",
        "        edgecolor ='grey', label ='Precision')\n",
        "plt.bar(br4, recall, color ='#b9ed7d', width = barWidth,\n",
        "        edgecolor ='grey', label ='Recall') \n",
        "    \n",
        "    \n",
        "# Adding Xticks\n",
        "plt.xlabel('Algorithm', fontweight ='bold', fontsize = 15)\n",
        "plt.ylabel('Measure', fontweight ='bold', fontsize = 15)\n",
        "plt.xticks([r + barWidth for r in range(len(f1score))],\n",
        "        ['SVM(TF)', 'SVM(TF/IDF)', 'Naive Bayes(TF)', 'Naive Bayes(TF/IDF)', 'Logistic Regression (TF)', 'Logistic Regression (TF/IDF)'],rotation=45)\n",
        " \n",
        "plt.legend(loc=4)\n",
        "plt.show()"
      ]
    }
  ],
  "metadata": {
    "kernelspec": {
      "display_name": "Python 3",
      "language": "python",
      "name": "python3"
    },
    "language_info": {
      "codemirror_mode": {
        "name": "ipython",
        "version": 3
      },
      "file_extension": ".py",
      "mimetype": "text/x-python",
      "name": "python",
      "nbconvert_exporter": "python",
      "pygments_lexer": "ipython3",
      "version": "3.8.3"
    },
    "colab": {
      "name": "Sentiment_analysis_on_IMDB_Data_Set.ipynb",
      "provenance": []
    }
  },
  "nbformat": 4,
  "nbformat_minor": 0
}